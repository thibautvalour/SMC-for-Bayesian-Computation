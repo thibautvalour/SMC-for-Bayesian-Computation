{
 "cells": [
  {
   "cell_type": "code",
   "execution_count": null,
   "metadata": {},
   "outputs": [],
   "source": [
    "import numpy as np\n",
    "import scipy\n",
    "from scipy import stats\n",
    "\n",
    "from init import init_Y\n",
    "from metrics import X_in_A, rho, eta, distance, ESS, prop_alive_func\n",
    "from stats import sampling_params, random_walk_on_params, pi_n, X_update, metropolis_X_theta"
   ]
  },
  {
   "cell_type": "code",
   "execution_count": null,
   "metadata": {},
   "outputs": [],
   "source": [
    "# Step 0 : initialisation\n",
    "alpha = 0.9\n",
    "N = 1000\n",
    "Nt = 500\n",
    "Y = init_Y()\n",
    "Xs = [[1]]*N\n",
    "epsilon_final = 0.00045\n",
    "epsilon_t = np.inf\n",
    "random_walk_stds = (0.05, 0.05, 0.7)\n",
    "Ws = 1/N * np.ones(N)\n",
    "prop_alive = prop_alive_func(Ws)\n",
    "thetas = np.array([sampling_params() for _ in range(N)])\n",
    "\n",
    "for _ in range(2): # We do updates so the Xs are not all the same at the beginning\n",
    "    for index, X in enumerate(Xs): \n",
    "        phi, tau, xi = thetas[index]\n",
    "        new_X, new_phi, new_tau, new_xi = metropolis_X_theta(X, Y, phi, tau, xi,\n",
    "                                                             epsilon_t, random_walk_stds)\n",
    "        Xs[index], thetas[index] = new_X, (new_phi, new_tau, new_xi)\n",
    "    \n",
    "results = {'Xs': [Xs], 'Ws': [Ws], 'thetas': [thetas], 'epsilon_list': [epsilon_t]}"
   ]
  },
  {
   "cell_type": "code",
   "execution_count": null,
   "metadata": {},
   "outputs": [],
   "source": [
    "t = 0\n",
    "while epsilon_t > epsilon_final:\n",
    "\n",
    "    # Step 1 : sampling\n",
    "    print(f'Step 1 : t={t}') \n",
    "    distance_list =  np.sort(list(map(distance, Xs, [Y]*N))) # Compute all distance to Y\n",
    "    epsilon_t = distance_list[int(alpha*len(distance_list))] # find the alpha qantile of the distance list\n",
    "    Ws *= np.array([int(X_in_A(Y, X, epsilon_t)) for X in Xs]) # Compute the new weights\n",
    "\n",
    "    # Step 2 : resampling\n",
    "    if prop_alive_func(Ws) < 0.5: \n",
    "        print('Step 2 : Resampling')\n",
    "        indices = np.random.choice(range(N), size=N, replace=True, p=(Ws/np.sum(Ws)))\n",
    "        Xs = [Xs[i] for i in indices]\n",
    "        thetas = [thetas[i] for i in indices]\n",
    "        Ws = 1/N * np.ones(N)\n",
    "        \n",
    "    # Step 3 : random walk\n",
    "    print('Step 3')\n",
    "    for index, X in enumerate(Xs):\n",
    "        if Ws[index] > 0:\n",
    "            phi, tau, xi = thetas[index]\n",
    "            new_X, new_phi, new_tau, new_xi = metropolis_X_theta(X, Y, phi, tau, xi,\n",
    "                                                                 epsilon_t, random_walk_stds)\n",
    "            Xs[index], thetas[index] = new_X, (new_phi, new_tau, new_xi)\n",
    "    t+=1\n",
    "    print(f'espilon_t = {epsilon_t}, epsilon_final = {epsilon_final}')\n",
    "\n",
    "    results['Xs'].append(Xs)\n",
    "    results['Ws'].append(Ws)\n",
    "    results['thetas'].append(thetas)\n",
    "    results['epsilon_list'].append(epsilon_t)\n",
    "    # save results to file\n",
    "    np.save('results.npy', results)"
   ]
  },
  {
   "cell_type": "code",
   "execution_count": null,
   "metadata": {},
   "outputs": [],
   "source": []
  },
  {
   "cell_type": "code",
   "execution_count": null,
   "metadata": {},
   "outputs": [],
   "source": []
  },
  {
   "cell_type": "code",
   "execution_count": null,
   "metadata": {},
   "outputs": [],
   "source": []
  }
 ],
 "metadata": {
  "kernelspec": {
   "display_name": "venv",
   "language": "python",
   "name": "python3"
  },
  "language_info": {
   "codemirror_mode": {
    "name": "ipython",
    "version": 3
   },
   "file_extension": ".py",
   "mimetype": "text/x-python",
   "name": "python",
   "nbconvert_exporter": "python",
   "pygments_lexer": "ipython3",
   "version": "3.9.13"
  },
  "orig_nbformat": 4,
  "vscode": {
   "interpreter": {
    "hash": "c6b9668d8a15f43186a70f0f81c0101d9fae62f7b2f887f04b88e4cf956a85de"
   }
  }
 },
 "nbformat": 4,
 "nbformat_minor": 2
}
